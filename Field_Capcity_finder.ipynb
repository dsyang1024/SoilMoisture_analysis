{
 "cells": [
  {
   "cell_type": "markdown",
   "id": "e051e6ed",
   "metadata": {},
   "source": [
    "# Field Capacity Finder from the soil moisture\n",
    "\n",
    "## From the soil moisture data\n",
    "***\n",
    "### Data description\n",
    "- data is being collected from the F70 field.\n",
    "- soil moisture is in unit of %, **not cleaned**\n",
    "- this script includes cleaning function\n",
    "- this script designed to be used in daily basis.\n",
    "- from the soil moisture monitoring website\n",
    "- example data is 'Calc_def_test.csv'\n",
    "\n",
    "- [soil moisture data](https://things.iot.ag.purdue.edu:8080/dashboard/dc56c5a0-ee3e-11ec-b72b-5dd76ca52a2b?publicId=a914a590-ecae-11ec-b72b-5dd76ca52a2b) input data for the script will be downloaded directly\n",
    "> soil moisture data is from Purdue AgIT server that collects the field data through LoRaWan network\n",
    "> \n",
    "- [weather data] input data for the script will be downloaded directly\n",
    "> weather data is from Purdue Mesonet server and using ACRE station data\n",
    ">"
   ]
  },
  {
   "cell_type": "code",
   "execution_count": null,
   "id": "91870e84",
   "metadata": {},
   "outputs": [],
   "source": []
  }
 ],
 "metadata": {
  "kernelspec": {
   "display_name": "Python 3 (ipykernel)",
   "language": "python",
   "name": "python3"
  },
  "language_info": {
   "codemirror_mode": {
    "name": "ipython",
    "version": 3
   },
   "file_extension": ".py",
   "mimetype": "text/x-python",
   "name": "python",
   "nbconvert_exporter": "python",
   "pygments_lexer": "ipython3",
   "version": "3.10.9"
  }
 },
 "nbformat": 4,
 "nbformat_minor": 5
}
