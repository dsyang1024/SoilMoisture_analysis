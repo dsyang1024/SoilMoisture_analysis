{
 "cells": [
  {
   "cell_type": "markdown",
   "metadata": {},
   "source": [
    "### Synoptic API\n",
    "https://docs.synopticdata.com/services/code-examples\n",
    "\n",
    "#### Automated downloading system\n"
   ]
  },
  {
   "cell_type": "code",
   "execution_count": 112,
   "metadata": {},
   "outputs": [
    {
     "name": "stdout",
     "output_type": "stream",
     "text": [
      "20240516\n",
      "dict_keys(['date_time', 'air_temp_set_1', 'air_temp_set_4', 'air_temp_set_3', 'air_temp_set_2', 'relative_humidity_set_1', 'wind_speed_set_1', 'wind_direction_set_1', 'wind_gust_set_1', 'solar_radiation_set_1', 'precip_accum_30_minute_set_1', 'soil_temp_set_1', 'soil_temp_set_2', 'soil_temp_set_6', 'soil_temp_set_5', 'soil_temp_set_3', 'soil_temp_set_4', 'soil_moisture_set_1', 'soil_moisture_set_4', 'soil_moisture_set_3', 'soil_moisture_set_2', 'wind_cardinal_direction_set_1d', 'wind_chill_set_1d', 'dew_point_temperature_set_1d', 'heat_index_set_1d'])\n"
     ]
    }
   ],
   "source": [
    "import urllib.request as req\n",
    "import os.path\n",
    "import json\n",
    "import requests\n",
    "import os\n",
    "import csv\n",
    "\n",
    "API_ROOT = \"https://api.synopticdata.com/v2/stations/timeseries\"\n",
    "API_TOKEN = \"2e206cb80ead43a99afea07cb78908bb\"\n",
    "STID='PDU01'\n",
    "# get today's date as string\n",
    "from datetime import date\n",
    "today = date.today().strftime(\"%Y%m%d\")\n",
    "print(today)\n",
    "\n",
    "\n",
    "api_request_url = API_ROOT\n",
    "api_arguments = {\"token\":API_TOKEN,\"stid\":STID,\"units\":\"english\",\"obtimezone\":\"local\", \"start\":'202404141800', \"end\":today+'1000', \"timeformat\":\"%Y-%m-%d %H:%M\"}\n",
    "req = requests.get(api_request_url, params=api_arguments)\n",
    "# ! Converting the data to a dictionary\n",
    "api_raw_data = req.json()\n",
    "\n",
    "# Testing the API values with keys for each dictionary component\n",
    "# print keys of the dictionary\n",
    "# print(api_raw_data.keys())\n",
    "# print(api_raw_data['STATION'].keys()) ==> lists do not have keys\n",
    "# print(len(api_raw_data['STATION']))\n",
    "# print(api_raw_data['STATION'][0].keys())\n",
    "print(api_raw_data['STATION'][0]['OBSERVATIONS'].keys())\n",
    "# print(api_raw_data['SUMMARY'].keys())\n",
    "# print(api_raw_data['QC_SUMMARY'].keys())\n",
    "# print(api_raw_data['UNITS'].keys())\n",
    "# print(api_raw_data['UNITS'].values())\n",
    "\n",
    "# * Extracting the OBSERVATION data from the dictionary\n",
    "api_obs_data = api_raw_data['STATION'][0]['OBSERVATIONS']\n",
    "\n",
    "\n",
    "# * Writing the data to a CSV file\n",
    "with open(\"./weather_testing.csv\", \"w\", newline=\"\\n\") as f:\n",
    "       # pass the csv file to csv.writer.\n",
    "    writer = csv.writer(f, delimiter=',')\n",
    "     \n",
    "    # convert the dictionary keys to a list\n",
    "    key_list = list(api_obs_data.keys())\n",
    "     \n",
    "    # find the length of the key_list\n",
    "    limit = len(api_obs_data['date_time'])\n",
    "     \n",
    "    # the length of the keys corresponds to\n",
    "    # no. of. columns.\n",
    "    writer.writerow(api_obs_data.keys())\n",
    "     \n",
    "    # iterate each column and assign the\n",
    "    # corresponding values to the column\n",
    "    for i in range(limit):\n",
    "        writer.writerow([api_obs_data[x][i] for x in key_list])\n",
    "\n"
   ]
  }
 ],
 "metadata": {
  "kernelspec": {
   "display_name": "base",
   "language": "python",
   "name": "python3"
  },
  "language_info": {
   "codemirror_mode": {
    "name": "ipython",
    "version": 3
   },
   "file_extension": ".py",
   "mimetype": "text/x-python",
   "name": "python",
   "nbconvert_exporter": "python",
   "pygments_lexer": "ipython3",
   "version": "3.10.14"
  }
 },
 "nbformat": 4,
 "nbformat_minor": 2
}
