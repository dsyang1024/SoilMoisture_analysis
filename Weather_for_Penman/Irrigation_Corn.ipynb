{
 "cells": [
  {
   "cell_type": "markdown",
   "id": "b36a33c9-377f-4696-8008-5a712d926650",
   "metadata": {},
   "source": [
    "# This code estimates irrigation requirement for Corn using Penman-Monteith method"
   ]
  },
  {
   "cell_type": "markdown",
   "id": "685098b5",
   "metadata": {},
   "source": [
    "# 1. FAO Penman-Montieth method for estimating Ref. Evapotranspiration"
   ]
  },
  {
   "cell_type": "code",
   "execution_count": 7,
   "id": "f26e27d7",
   "metadata": {
    "tags": []
   },
   "outputs": [],
   "source": [
    "import pandas as pd\n",
    "import datetime\n",
    "import numpy as np\n",
    "import math\n",
    "import matplotlib.pyplot as plt"
   ]
  },
  {
   "cell_type": "code",
   "execution_count": 9,
   "id": "6fa95c6e",
   "metadata": {
    "tags": []
   },
   "outputs": [
    {
     "ename": "ImportError",
     "evalue": "Missing optional dependency 'openpyxl'.  Use pip or conda to install openpyxl.",
     "output_type": "error",
     "traceback": [
      "\u001b[0;31m---------------------------------------------------------------------------\u001b[0m",
      "\u001b[0;31mModuleNotFoundError\u001b[0m                       Traceback (most recent call last)",
      "File \u001b[0;32m~/anaconda3/lib/python3.10/site-packages/pandas/compat/_optional.py:135\u001b[0m, in \u001b[0;36mimport_optional_dependency\u001b[0;34m(name, extra, errors, min_version)\u001b[0m\n\u001b[1;32m    134\u001b[0m \u001b[38;5;28;01mtry\u001b[39;00m:\n\u001b[0;32m--> 135\u001b[0m     module \u001b[38;5;241m=\u001b[39m \u001b[43mimportlib\u001b[49m\u001b[38;5;241;43m.\u001b[39;49m\u001b[43mimport_module\u001b[49m\u001b[43m(\u001b[49m\u001b[43mname\u001b[49m\u001b[43m)\u001b[49m\n\u001b[1;32m    136\u001b[0m \u001b[38;5;28;01mexcept\u001b[39;00m \u001b[38;5;167;01mImportError\u001b[39;00m:\n",
      "File \u001b[0;32m~/anaconda3/lib/python3.10/importlib/__init__.py:126\u001b[0m, in \u001b[0;36mimport_module\u001b[0;34m(name, package)\u001b[0m\n\u001b[1;32m    125\u001b[0m         level \u001b[38;5;241m+\u001b[39m\u001b[38;5;241m=\u001b[39m \u001b[38;5;241m1\u001b[39m\n\u001b[0;32m--> 126\u001b[0m \u001b[38;5;28;01mreturn\u001b[39;00m \u001b[43m_bootstrap\u001b[49m\u001b[38;5;241;43m.\u001b[39;49m\u001b[43m_gcd_import\u001b[49m\u001b[43m(\u001b[49m\u001b[43mname\u001b[49m\u001b[43m[\u001b[49m\u001b[43mlevel\u001b[49m\u001b[43m:\u001b[49m\u001b[43m]\u001b[49m\u001b[43m,\u001b[49m\u001b[43m \u001b[49m\u001b[43mpackage\u001b[49m\u001b[43m,\u001b[49m\u001b[43m \u001b[49m\u001b[43mlevel\u001b[49m\u001b[43m)\u001b[49m\n",
      "File \u001b[0;32m<frozen importlib._bootstrap>:1050\u001b[0m, in \u001b[0;36m_gcd_import\u001b[0;34m(name, package, level)\u001b[0m\n",
      "File \u001b[0;32m<frozen importlib._bootstrap>:1027\u001b[0m, in \u001b[0;36m_find_and_load\u001b[0;34m(name, import_)\u001b[0m\n",
      "File \u001b[0;32m<frozen importlib._bootstrap>:1004\u001b[0m, in \u001b[0;36m_find_and_load_unlocked\u001b[0;34m(name, import_)\u001b[0m\n",
      "\u001b[0;31mModuleNotFoundError\u001b[0m: No module named 'openpyxl'",
      "\nDuring handling of the above exception, another exception occurred:\n",
      "\u001b[0;31mImportError\u001b[0m                               Traceback (most recent call last)",
      "Cell \u001b[0;32mIn[9], line 1\u001b[0m\n\u001b[0;32m----> 1\u001b[0m df \u001b[38;5;241m=\u001b[39m \u001b[43mpd\u001b[49m\u001b[38;5;241;43m.\u001b[39;49m\u001b[43mread_excel\u001b[49m\u001b[43m(\u001b[49m\u001b[38;5;124;43m'\u001b[39;49m\u001b[38;5;124;43m./Irrigation_Scheduling_Field70_2023.xlsx\u001b[39;49m\u001b[38;5;124;43m'\u001b[39;49m\u001b[43m,\u001b[49m\u001b[43m \u001b[49m\u001b[38;5;124;43m'\u001b[39;49m\u001b[38;5;124;43mPenman\u001b[39;49m\u001b[38;5;124;43m'\u001b[39;49m\u001b[43m,\u001b[49m\u001b[43m \u001b[49m\u001b[43mskiprows\u001b[49m\u001b[38;5;241;43m=\u001b[39;49m\u001b[38;5;241;43m2\u001b[39;49m\u001b[43m)\u001b[49m\n\u001b[1;32m      2\u001b[0m df\u001b[38;5;241m=\u001b[39mdf\u001b[38;5;241m.\u001b[39miloc[:, : \u001b[38;5;241m6\u001b[39m] \n\u001b[1;32m      3\u001b[0m df[\u001b[38;5;124m'\u001b[39m\u001b[38;5;124mDate\u001b[39m\u001b[38;5;124m'\u001b[39m] \u001b[38;5;241m=\u001b[39m pd\u001b[38;5;241m.\u001b[39mto_datetime(df[\u001b[38;5;124m'\u001b[39m\u001b[38;5;124mDate\u001b[39m\u001b[38;5;124m'\u001b[39m])\n",
      "File \u001b[0;32m~/anaconda3/lib/python3.10/site-packages/pandas/io/excel/_base.py:495\u001b[0m, in \u001b[0;36mread_excel\u001b[0;34m(io, sheet_name, header, names, index_col, usecols, dtype, engine, converters, true_values, false_values, skiprows, nrows, na_values, keep_default_na, na_filter, verbose, parse_dates, date_parser, date_format, thousands, decimal, comment, skipfooter, storage_options, dtype_backend, engine_kwargs)\u001b[0m\n\u001b[1;32m    493\u001b[0m \u001b[38;5;28;01mif\u001b[39;00m \u001b[38;5;129;01mnot\u001b[39;00m \u001b[38;5;28misinstance\u001b[39m(io, ExcelFile):\n\u001b[1;32m    494\u001b[0m     should_close \u001b[38;5;241m=\u001b[39m \u001b[38;5;28;01mTrue\u001b[39;00m\n\u001b[0;32m--> 495\u001b[0m     io \u001b[38;5;241m=\u001b[39m \u001b[43mExcelFile\u001b[49m\u001b[43m(\u001b[49m\n\u001b[1;32m    496\u001b[0m \u001b[43m        \u001b[49m\u001b[43mio\u001b[49m\u001b[43m,\u001b[49m\n\u001b[1;32m    497\u001b[0m \u001b[43m        \u001b[49m\u001b[43mstorage_options\u001b[49m\u001b[38;5;241;43m=\u001b[39;49m\u001b[43mstorage_options\u001b[49m\u001b[43m,\u001b[49m\n\u001b[1;32m    498\u001b[0m \u001b[43m        \u001b[49m\u001b[43mengine\u001b[49m\u001b[38;5;241;43m=\u001b[39;49m\u001b[43mengine\u001b[49m\u001b[43m,\u001b[49m\n\u001b[1;32m    499\u001b[0m \u001b[43m        \u001b[49m\u001b[43mengine_kwargs\u001b[49m\u001b[38;5;241;43m=\u001b[39;49m\u001b[43mengine_kwargs\u001b[49m\u001b[43m,\u001b[49m\n\u001b[1;32m    500\u001b[0m \u001b[43m    \u001b[49m\u001b[43m)\u001b[49m\n\u001b[1;32m    501\u001b[0m \u001b[38;5;28;01melif\u001b[39;00m engine \u001b[38;5;129;01mand\u001b[39;00m engine \u001b[38;5;241m!=\u001b[39m io\u001b[38;5;241m.\u001b[39mengine:\n\u001b[1;32m    502\u001b[0m     \u001b[38;5;28;01mraise\u001b[39;00m \u001b[38;5;167;01mValueError\u001b[39;00m(\n\u001b[1;32m    503\u001b[0m         \u001b[38;5;124m\"\u001b[39m\u001b[38;5;124mEngine should not be specified when passing \u001b[39m\u001b[38;5;124m\"\u001b[39m\n\u001b[1;32m    504\u001b[0m         \u001b[38;5;124m\"\u001b[39m\u001b[38;5;124man ExcelFile - ExcelFile already has the engine set\u001b[39m\u001b[38;5;124m\"\u001b[39m\n\u001b[1;32m    505\u001b[0m     )\n",
      "File \u001b[0;32m~/anaconda3/lib/python3.10/site-packages/pandas/io/excel/_base.py:1567\u001b[0m, in \u001b[0;36mExcelFile.__init__\u001b[0;34m(self, path_or_buffer, engine, storage_options, engine_kwargs)\u001b[0m\n\u001b[1;32m   1564\u001b[0m \u001b[38;5;28mself\u001b[39m\u001b[38;5;241m.\u001b[39mengine \u001b[38;5;241m=\u001b[39m engine\n\u001b[1;32m   1565\u001b[0m \u001b[38;5;28mself\u001b[39m\u001b[38;5;241m.\u001b[39mstorage_options \u001b[38;5;241m=\u001b[39m storage_options\n\u001b[0;32m-> 1567\u001b[0m \u001b[38;5;28mself\u001b[39m\u001b[38;5;241m.\u001b[39m_reader \u001b[38;5;241m=\u001b[39m \u001b[38;5;28;43mself\u001b[39;49m\u001b[38;5;241;43m.\u001b[39;49m\u001b[43m_engines\u001b[49m\u001b[43m[\u001b[49m\u001b[43mengine\u001b[49m\u001b[43m]\u001b[49m\u001b[43m(\u001b[49m\n\u001b[1;32m   1568\u001b[0m \u001b[43m    \u001b[49m\u001b[38;5;28;43mself\u001b[39;49m\u001b[38;5;241;43m.\u001b[39;49m\u001b[43m_io\u001b[49m\u001b[43m,\u001b[49m\n\u001b[1;32m   1569\u001b[0m \u001b[43m    \u001b[49m\u001b[43mstorage_options\u001b[49m\u001b[38;5;241;43m=\u001b[39;49m\u001b[43mstorage_options\u001b[49m\u001b[43m,\u001b[49m\n\u001b[1;32m   1570\u001b[0m \u001b[43m    \u001b[49m\u001b[43mengine_kwargs\u001b[49m\u001b[38;5;241;43m=\u001b[39;49m\u001b[43mengine_kwargs\u001b[49m\u001b[43m,\u001b[49m\n\u001b[1;32m   1571\u001b[0m \u001b[43m\u001b[49m\u001b[43m)\u001b[49m\n",
      "File \u001b[0;32m~/anaconda3/lib/python3.10/site-packages/pandas/io/excel/_openpyxl.py:552\u001b[0m, in \u001b[0;36mOpenpyxlReader.__init__\u001b[0;34m(self, filepath_or_buffer, storage_options, engine_kwargs)\u001b[0m\n\u001b[1;32m    534\u001b[0m \u001b[38;5;129m@doc\u001b[39m(storage_options\u001b[38;5;241m=\u001b[39m_shared_docs[\u001b[38;5;124m\"\u001b[39m\u001b[38;5;124mstorage_options\u001b[39m\u001b[38;5;124m\"\u001b[39m])\n\u001b[1;32m    535\u001b[0m \u001b[38;5;28;01mdef\u001b[39;00m \u001b[38;5;21m__init__\u001b[39m(\n\u001b[1;32m    536\u001b[0m     \u001b[38;5;28mself\u001b[39m,\n\u001b[0;32m   (...)\u001b[0m\n\u001b[1;32m    539\u001b[0m     engine_kwargs: \u001b[38;5;28mdict\u001b[39m \u001b[38;5;241m|\u001b[39m \u001b[38;5;28;01mNone\u001b[39;00m \u001b[38;5;241m=\u001b[39m \u001b[38;5;28;01mNone\u001b[39;00m,\n\u001b[1;32m    540\u001b[0m ) \u001b[38;5;241m-\u001b[39m\u001b[38;5;241m>\u001b[39m \u001b[38;5;28;01mNone\u001b[39;00m:\n\u001b[1;32m    541\u001b[0m \u001b[38;5;250m    \u001b[39m\u001b[38;5;124;03m\"\"\"\u001b[39;00m\n\u001b[1;32m    542\u001b[0m \u001b[38;5;124;03m    Reader using openpyxl engine.\u001b[39;00m\n\u001b[1;32m    543\u001b[0m \n\u001b[0;32m   (...)\u001b[0m\n\u001b[1;32m    550\u001b[0m \u001b[38;5;124;03m        Arbitrary keyword arguments passed to excel engine.\u001b[39;00m\n\u001b[1;32m    551\u001b[0m \u001b[38;5;124;03m    \"\"\"\u001b[39;00m\n\u001b[0;32m--> 552\u001b[0m     \u001b[43mimport_optional_dependency\u001b[49m\u001b[43m(\u001b[49m\u001b[38;5;124;43m\"\u001b[39;49m\u001b[38;5;124;43mopenpyxl\u001b[39;49m\u001b[38;5;124;43m\"\u001b[39;49m\u001b[43m)\u001b[49m\n\u001b[1;32m    553\u001b[0m     \u001b[38;5;28msuper\u001b[39m()\u001b[38;5;241m.\u001b[39m\u001b[38;5;21m__init__\u001b[39m(\n\u001b[1;32m    554\u001b[0m         filepath_or_buffer,\n\u001b[1;32m    555\u001b[0m         storage_options\u001b[38;5;241m=\u001b[39mstorage_options,\n\u001b[1;32m    556\u001b[0m         engine_kwargs\u001b[38;5;241m=\u001b[39mengine_kwargs,\n\u001b[1;32m    557\u001b[0m     )\n",
      "File \u001b[0;32m~/anaconda3/lib/python3.10/site-packages/pandas/compat/_optional.py:138\u001b[0m, in \u001b[0;36mimport_optional_dependency\u001b[0;34m(name, extra, errors, min_version)\u001b[0m\n\u001b[1;32m    136\u001b[0m \u001b[38;5;28;01mexcept\u001b[39;00m \u001b[38;5;167;01mImportError\u001b[39;00m:\n\u001b[1;32m    137\u001b[0m     \u001b[38;5;28;01mif\u001b[39;00m errors \u001b[38;5;241m==\u001b[39m \u001b[38;5;124m\"\u001b[39m\u001b[38;5;124mraise\u001b[39m\u001b[38;5;124m\"\u001b[39m:\n\u001b[0;32m--> 138\u001b[0m         \u001b[38;5;28;01mraise\u001b[39;00m \u001b[38;5;167;01mImportError\u001b[39;00m(msg)\n\u001b[1;32m    139\u001b[0m     \u001b[38;5;28;01mreturn\u001b[39;00m \u001b[38;5;28;01mNone\u001b[39;00m\n\u001b[1;32m    141\u001b[0m \u001b[38;5;66;03m# Handle submodules: if we have submodule, grab parent module from sys.modules\u001b[39;00m\n",
      "\u001b[0;31mImportError\u001b[0m: Missing optional dependency 'openpyxl'.  Use pip or conda to install openpyxl."
     ]
    }
   ],
   "source": [
    "df = pd.read_excel('../Irrigation_Scheduling_Field70_2023.xlsx', 'Penman', skiprows=2)\n",
    "df=df.iloc[:, : 6] \n",
    "df['Date'] = pd.to_datetime(df['Date'])\n",
    "df[\"month1\"]=df[\"Date\"].dt.month\n",
    "df"
   ]
  },
  {
   "cell_type": "code",
   "execution_count": null,
   "id": "5bcee67b",
   "metadata": {},
   "outputs": [],
   "source": [
    "# monthly_averages = df.groupby([\"month1\"]).aggregate({\"Air Temperature\":np.mean})\n",
    "#df2 = monthly_averages.rename(columns={'Air Temperature':\"Temp_avg\"})\n",
    "#df2"
   ]
  },
  {
   "cell_type": "code",
   "execution_count": null,
   "id": "7316e27a",
   "metadata": {
    "tags": []
   },
   "outputs": [],
   "source": [
    "data = {'month1': np.arange(1,13),\n",
    "        'Temp_avg': [-3.150,-1.345,4.547,11.109,17.016,21.745,22.969,21.738,18.330,11.936,5.572,-0.620]}\n",
    " \n",
    "# Create DataFrame\n",
    "df2 = pd.DataFrame(data)\n",
    "\n",
    "# Create a new column and calculate its values using if-else conditions\n",
    "df2['heat_Flux'] = 0.07 * np.where(df2['month1'] == 1, \n",
    "                                    df2['Temp_avg'].shift(-1) - df2['Temp_avg'].iloc[-1],\n",
    "                                    np.where(df2['month1'] == 12,\n",
    "                                             df2['Temp_avg'].iloc[0] - df2['Temp_avg'].shift(1),\n",
    "                                             df2['Temp_avg'].shift(-1) - df2['Temp_avg'].shift(1)))\n",
    "df=pd.merge(df, df2, left_on='month1', right_on='month1')\n",
    "df"
   ]
  },
  {
   "cell_type": "code",
   "execution_count": null,
   "id": "a8aecd43",
   "metadata": {
    "tags": []
   },
   "outputs": [],
   "source": [
    "df[\"year\"]=df[\"Date\"].dt.year\n",
    "df['month'] = 1\n",
    "df['day'] = 1\n",
    "df['J_Date']=pd.to_datetime(df[[\"year\", \"month\", \"day\"]])\n",
    "df['j']=df['Date'].apply(pd.Timestamp.to_julian_date)-df['J_Date'].apply(pd.Timestamp.to_julian_date)+1\n"
   ]
  },
  {
   "cell_type": "code",
   "execution_count": null,
   "id": "7f2bc097",
   "metadata": {
    "tags": []
   },
   "outputs": [],
   "source": [
    "df = df.rename(columns={'Solar Radiation':'radiation','Air Temperature':\"Temp\",'Wind Speed':'Wind_speed','Vapor Pressure':'V_Pressure'})\n",
    "\n",
    "#df=df.iloc[0:10,:]\n"
   ]
  },
  {
   "cell_type": "code",
   "execution_count": null,
   "id": "3ba5fc82",
   "metadata": {
    "tags": []
   },
   "outputs": [],
   "source": [
    "def PET_Penman (Wind_speed, radiation, Temp, V_Pressure, heat_Flux, j):\n",
    "    lammbda= 2.501-Temp*0.002361 \n",
    "     \n",
    "    if Temp > 0:\n",
    "        Sat_VP = 0.6108 * math.exp(17.27 * Temp / (237.3 + Temp))\n",
    "    else:\n",
    "        Sat_VP = V_Pressure * 0.1\n",
    "        \n",
    "    vpd= Sat_VP-V_Pressure*0.1\n",
    "    slope= 4098*0.6108*math.exp(((17.27*Temp)/(Temp+237.3)))/((Temp+237.3)**2)\n",
    "    \n",
    "    Pressure= 101.3*((293-0.0065*213.36)/293)**5.26\n",
    "    gamma  =0.001013*Pressure/(0.622*lammbda)\n",
    "    sigma=4.903*10**-9\n",
    "    \n",
    "    Rbo= sigma*(Temp+273)**4\n",
    "    Rs= radiation*60*60*24/10e5    \n",
    "    dr=1+0.033*math.cos(2*math.pi*j/365)\n",
    "    declination=0.409*math.sin((2*math.pi*j/365)-1.39)\n",
    "    sunset_angle=math.acos(-1*math.tan(40.469794*math.pi/180)*math.tan(declination))\n",
    "    Ra=(24*60*0.082/math.pi)*dr*(math.sin(40.469794*math.pi/180)*math.sin(declination)+math.cos(40.469794*math.pi/180)*math.cos(declination)*math.sin(sunset_angle))\n",
    "    Rso=(213.36*0.00002+0.75)*Ra    \n",
    "    Rnl=Rbo*(0.34-0.14*math.sqrt(0.1*V_Pressure))*(1.35*(Rs/Rso) - 0.35)      \n",
    "    Rnet=Rs*(1-0.23)-Rnl\n",
    "    ETo=(0.408*slope*(Rnet-heat_Flux)+gamma*(900/(Temp+273))*Wind_speed*vpd)/(slope+gamma*(1+0.34*Wind_speed))  \n",
    "    ETo_in=ETo/25.4\n",
    "    #return (lammbda,Sat_VP,vpd,slope,Pressure,gamma,sigma,Rbo,Rs,j,dr,declination,sunset_angle,Ra, Rso,Rnl,ETo)\n",
    "    return ETo, ETo_in\n"
   ]
  },
  {
   "cell_type": "code",
   "execution_count": null,
   "id": "e2c6d2d9",
   "metadata": {
    "tags": []
   },
   "outputs": [],
   "source": [
    "#df['ETo'] = df.apply(lambda row: PET(row['Wind_speed'], row['heat_Flux'], row['radiation'], row['Temp'], row['V_Pressure'],row['j']), axis=1)\n",
    "\n",
    "# zip allows for multiple columns\n",
    "%timeit df['ETo_mmDay'], df['ETo_in'] = zip(*df.apply(lambda row: PET_Penman(row['Wind_speed'], row['radiation'], row['Temp'], row['V_Pressure'], row['heat_Flux'],row['j']), axis=1))\n",
    "\n",
    "#df.ETo_in=df.ETo_in.round(3)\n",
    "df"
   ]
  },
  {
   "cell_type": "markdown",
   "id": "70536a59",
   "metadata": {},
   "source": [
    "## The Ref ET estimated using Penman-Monteith:"
   ]
  },
  {
   "cell_type": "code",
   "execution_count": null,
   "id": "f0436656",
   "metadata": {
    "tags": []
   },
   "outputs": [],
   "source": [
    "#df.loc[(df.Date >= '2023-08-30') & (df.Date <= '2023-09-10')]\n",
    "#df=df[['Date','Wind_speed','Precipitation','radiation','Temp','V_Pressure','ETo_mmDay','ETo_in']]\n",
    "df=df[['Date','Precipitation','ETo_in']]\n",
    "df['Precipitation']=df['Precipitation']/25.4\n",
    "df"
   ]
  },
  {
   "cell_type": "markdown",
   "id": "c771ec0c",
   "metadata": {},
   "source": [
    "# 2. Crop Coefficent: Corn "
   ]
  },
  {
   "cell_type": "code",
   "execution_count": null,
   "id": "62c112c6",
   "metadata": {
    "tags": []
   },
   "outputs": [],
   "source": [
    "df_Kc = pd.read_excel('../Irrigation_Scheduling_Field70_2023.xlsx', 'Corn Irr', skiprows=6)\n",
    "df_Kc=df_Kc.iloc[1:154, : 15] \n",
    "df_Kc.columns.values\n",
    "#df_Kc"
   ]
  },
  {
   "cell_type": "code",
   "execution_count": null,
   "id": "90a31f6e",
   "metadata": {
    "tags": []
   },
   "outputs": [],
   "source": [
    "df_Kc=df_Kc[['Date','Soil-Water Deficit Percent (Adjusted)\\n(SWDPadj)']]\n",
    "\n",
    "#df_Kc = df_Kc.rename(columns={'Week\\nPast\\nEmer-gence\\n(WPE)':'WPE','Soil-Water Deficit Percent\\n(SWDP)':'SWDP'})\n",
    "df_Kc = df_Kc.rename(columns={'Soil-Water Deficit Percent (Adjusted)\\n(SWDPadj)':'SWDPadj'})\n",
    "df_Kc"
   ]
  },
  {
   "cell_type": "code",
   "execution_count": null,
   "id": "b71e6779",
   "metadata": {
    "tags": []
   },
   "outputs": [],
   "source": [
    "df_Kc['Date']=pd.to_datetime(df_Kc['Date']).dt.date\n",
    "df_Kc['Date'] = pd.to_datetime(df_Kc['Date'])\n",
    "df_Kc['SWDPadj'] = df_Kc['SWDPadj'].fillna(0)\n",
    "df_Kc.head()"
   ]
  },
  {
   "cell_type": "code",
   "execution_count": null,
   "id": "c852f4c2-0c48-4b9c-84c4-b7c4c2fd852a",
   "metadata": {
    "tags": []
   },
   "outputs": [],
   "source": [
    "Emergence = pd.to_datetime([\"5/13/2023\"]) # actual date is 5/13/2023 & date are in mm-dd-yy 23:59 format. This enable to get actual RZ value\n",
    "Harvest = pd.to_datetime([\"10/1/2023\"])\n"
   ]
  },
  {
   "cell_type": "code",
   "execution_count": null,
   "id": "623b9f56-9f9b-44c8-b88e-da01ffb52e5a",
   "metadata": {
    "tags": []
   },
   "outputs": [],
   "source": [
    "def calculate_WPE(date):\n",
    "    if date < Emergence:\n",
    "        return 0\n",
    "    elif date > Harvest:\n",
    "        return 0\n",
    "    else:\n",
    "        return ((((date-Emergence).days)/7).astype(int)+1)[0]\n",
    "\n",
    "df_Kc['WPE']=df_Kc['Date'].apply(calculate_WPE)\n",
    "df_Kc"
   ]
  },
  {
   "cell_type": "markdown",
   "id": "bbf08cb3",
   "metadata": {},
   "source": [
    "## 2.1 Average Weekly crop coefficient for Corn in Indiana"
   ]
  },
  {
   "cell_type": "code",
   "execution_count": null,
   "id": "12c97674",
   "metadata": {
    "tags": []
   },
   "outputs": [],
   "source": [
    "Corn_Kc_Indiana= {'Tmax_F': [0] * 22 ,\n",
    "    'WPE': np.arange(1,23),\n",
    "        'Kc_avg': [0.326666667,0.41,0.506666667,0.623333333,0.743333333,0.865555556,0.938888889,1,1.011111111,1.017777778,\n",
    "                      1.006666667,0.984444444,0.945555556,0.876666667,0.787777778,0.65,0.5,0.1,0.1,0.1,0.1,0.1]}\n",
    "\n",
    "Corn_Kc_Indiana = pd.DataFrame(Corn_Kc_Indiana)\n",
    "#Corn_Kc_Indiana[\"new\"]= Corn_Kc_Indiana['Kc_avg'].shift(1)# delete it\n",
    "Corn_Kc_Indiana.tail()"
   ]
  },
  {
   "cell_type": "code",
   "execution_count": null,
   "id": "431f81d4",
   "metadata": {
    "tags": []
   },
   "outputs": [],
   "source": [
    "df_Kc=df_Kc.merge(Corn_Kc_Indiana, on='WPE', how='left')\n",
    "\n",
    "df_Kc = df_Kc.drop('Tmax_F', axis=1)\n",
    "df_Kc['Kc_avg'] = df_Kc['Kc_avg'].fillna(0)\n",
    "df_Kc"
   ]
  },
  {
   "cell_type": "code",
   "execution_count": null,
   "id": "08225e29",
   "metadata": {
    "tags": []
   },
   "outputs": [],
   "source": [
    "g=df_Kc[['SWDPadj']]>0\n",
    "g.value_counts()\n",
    "#df_Kc.SWDPadj.value_counts()"
   ]
  },
  {
   "cell_type": "markdown",
   "id": "38a983ec",
   "metadata": {},
   "source": [
    "# 3. Merge Penman Monteith ETo and Corn weekly Kc"
   ]
  },
  {
   "cell_type": "code",
   "execution_count": null,
   "id": "c5bec1ab",
   "metadata": {
    "tags": []
   },
   "outputs": [],
   "source": [
    "dat=df_Kc.merge(df, on='Date', how='left')\n",
    "dat=dat.rename(columns={'Precipitation':'Eff_Rain'})\n",
    "#dat=dat.iloc[0:130] # to reomve nan rows   \n",
    "dat['Eff_Rain'] = dat['Eff_Rain'].fillna(0)"
   ]
  },
  {
   "cell_type": "code",
   "execution_count": null,
   "id": "20fd8859-0f22-44fc-840b-ffea38c130e5",
   "metadata": {
    "tags": []
   },
   "outputs": [],
   "source": [
    "if dat.index.max() > 129:   \n",
    "    dat.loc[dat.index > 129, 'ETo_in'] = dat.iloc[129]['ETo_in']\n",
    "dat   "
   ]
  },
  {
   "cell_type": "code",
   "execution_count": null,
   "id": "e876a06f",
   "metadata": {
    "tags": []
   },
   "outputs": [],
   "source": [
    "WA_rate = 0.045632799 # water applicationr ate (in/hr)- ned to calculate\n",
    "RZinitial=4\n",
    "RZMD=24  # Root Zone Maximum Depth (in)\n",
    "W_RZMD=7 # week of RZMD\n",
    "Emergence = pd.to_datetime([\"5/12/2023\"]) # actual date is 5/13/2023 & date are in mm-dd-yy 23:59 format. This enable to get actual RZ value"
   ]
  },
  {
   "cell_type": "code",
   "execution_count": null,
   "id": "424fd9f8",
   "metadata": {
    "tags": []
   },
   "outputs": [],
   "source": [
    "# check spreadsheet how RZ max is 24. Therefore, i use a if condition for rz>24, rz=24\n",
    "def RZ_all (Date, WPE):\n",
    "    \n",
    "    if Date <= Emergence:\n",
    "        RZ=RZinitial\n",
    "    elif Date > Harvest:\n",
    "        RZ=RZinitial\n",
    "    elif Date > Emergence and WPE < RZMD:\n",
    "        RZ= RZ_previous_step + (RZMD - RZinitial) / ((W_RZMD- 1) * 7)\n",
    "    else:\n",
    "        RZ=RZMD\n",
    "    \n",
    "    if RZ>24:\n",
    "        RZ=24\n",
    "    else:\n",
    "        RZ=RZ\n",
    "        \n",
    "    return RZ   \n",
    "\n",
    "for index, row in dat.iterrows():\n",
    "    RZ = RZ_all(row['Date'], row['WPE'])\n",
    "    # if index==1:\n",
    "    #     RZ_previous_step=4\n",
    "    # else:\n",
    "    #     RZ_previous_step = RZ    \n",
    "    RZ_previous_step = RZ   \n",
    "    \n",
    "    dat.at[index, 'RZ'] = RZ\n",
    "    \n",
    "#df_Kc.iloc[51:70]\n",
    "dat['eff_irr']=0\n",
    "dat"
   ]
  },
  {
   "cell_type": "code",
   "execution_count": null,
   "id": "75ce24f1",
   "metadata": {
    "tags": []
   },
   "outputs": [],
   "source": [
    "Soil_table = pd.DataFrame({\n",
    "    'Layer': np.arange(0,8),\n",
    "    'From': [0,0,6,12,18,24,48,48],\n",
    "    'To': [0,6,12,18,24,48,48,48],\n",
    "    'Thickness': [0,6,6,6,6,0,0,0],\n",
    "    'AWHC': [0,0.23,0.23,0.21,0.2,0,0,0]})\n",
    "\n",
    "\n",
    "Soil_table['AWHCj']=Soil_table['Thickness']*Soil_table['AWHC']\n",
    "Soil_table['AWHCj_cum']=Soil_table['AWHCj'].cumsum()\n",
    "Soil_table1=Soil_table[['To','AWHCj_cum']]"
   ]
  },
  {
   "cell_type": "code",
   "execution_count": null,
   "id": "d52b0be8",
   "metadata": {
    "tags": []
   },
   "outputs": [],
   "source": [
    "def AWHCrz_func(rz):\n",
    "    \n",
    "    if rz in Soil_table1['To'].values:\n",
    "        i = Soil_table1.index[Soil_table1['To'] == rz][0]\n",
    "        dfx = Soil_table1.iloc[i:i+2]\n",
    "    else:\n",
    "        Soil_table1[\"To\"] > rz\n",
    "        v = Soil_table1[\"To\"] > rz \n",
    "        i = v[v].index[0]   \n",
    "        dfx = Soil_table1.iloc[i-1:i+1]\n",
    "      \n",
    "    \n",
    "    AWHCrz= ((rz-dfx.iloc[0][0])/(dfx.iloc[1][0]-dfx.iloc[0][0]))* (dfx.iloc[1][1]-dfx.iloc[0][1])+dfx.iloc[0][1]        \n",
    "            \n",
    "    return AWHCrz\n",
    "\n",
    "dat['AWHCrz'] = dat.apply(lambda x: AWHCrz_func(x['RZ']), axis=1)\n",
    "\n"
   ]
  },
  {
   "cell_type": "code",
   "execution_count": null,
   "id": "c8e9d983-da3a-4c0e-a2f1-8e52809bd3df",
   "metadata": {
    "tags": []
   },
   "outputs": [],
   "source": [
    "SWDPcritical=0.7 #SWD (%) level beyond which ET is reduced due to drought stress\n",
    "SWDP_1=0\n",
    "SWD_1=0\n",
    "WL=0\n",
    "\n",
    "def Kc_Corn (Date, WPE, Kc_avg, ETo_in, AWHCrz, Eff_Rain, eff_irr, SWDPadj):\n",
    "    \n",
    "    # if WPE > 0:\n",
    "    #     if SWDP_1 <= SWDPcritical:\n",
    "    #         Kc=1\n",
    "    #     else:\n",
    "    #         Kc=Kc_avg #Kc=((1-SWDP_1)/(1-SWDPcritical))*Kc_avg --? this is the equation but used same table of kc avergae\n",
    "    # else:\n",
    "    #     Kc=0.2\n",
    "     \n",
    "    if WPE == 0:\n",
    "        Kc=0.2\n",
    "    else:\n",
    "        Kc=Kc_avg \n",
    "    \n",
    "    unstressed_ET=Kc*ETo_in   \n",
    "    ET=Kc*ETo_in    \n",
    "       \n",
    "    \n",
    "    \n",
    "    if (SWD_1+ET-Eff_Rain-eff_irr) < 0:\n",
    "        WL= -SWD_1-ET+Eff_Rain+eff_irr\n",
    "    else:\n",
    "        WL=0    \n",
    "        \n",
    "    if SWDPadj != 0:\n",
    "        SWDvalue = SWDPadj * AWHCrz\n",
    "    else:        \n",
    "        SWDvalue = SWD_1+ET+WL-Eff_Rain-eff_irr \n",
    "    \n",
    "    SWDP=SWDvalue/AWHCrz\n",
    "    \n",
    "    if SWDP_1 > 0.3:\n",
    "        Irr_len= ET/WA_rate\n",
    "    else:\n",
    "        Irr_len=0 \n",
    "        \n",
    "        \n",
    "    OUTPUT=(WL, ET,   Kc, Irr_len, SWDvalue, SWDP) \n",
    "\n",
    "\n",
    "    return OUTPUT\n",
    "\n",
    "\n",
    "for index, i in dat.iterrows():\n",
    "   \n",
    "    OUT = Kc_Corn( i['Date'], i['WPE'], i['Kc_avg'], i['ETo_in'], i['AWHCrz'],i['Eff_Rain'], i['eff_irr'],i['SWDPadj'])  \n",
    "    SWD_1 = OUT[4]  \n",
    "    SWDP_1 = OUT[5]   \n",
    "    \n",
    "    OUT = pd.DataFrame(OUT)\n",
    "    OUT=OUT.T\n",
    "    OUT.columns = [\"WL\", \"ET\",'Kc','Irr_len','SWD','SWDP']\n",
    "  \n",
    "   #dat.at[index, 'SWD'] = SWD\n",
    "    dat.at[index, 'WL' ] = OUT.iloc[0][0]   \n",
    "    dat.at[index, 'ET' ] = OUT.iloc[0][1]\n",
    "    dat.at[index, 'Kc' ] = OUT.iloc[0][2]\n",
    "    dat.at[index, 'Irr_len' ] = OUT.iloc[0][3]\n",
    "    dat.at[index, 'SWD'] = OUT.iloc[0][4]\n",
    "    dat.at[index, 'SWDP'] = OUT.iloc[0][5]\n",
    "    \n",
    "dat.to_csv('../out10.csv', index=True)  \n"
   ]
  },
  {
   "cell_type": "code",
   "execution_count": null,
   "id": "9a610c7b",
   "metadata": {
    "tags": []
   },
   "outputs": [],
   "source": [
    "dat['Total_ET'] = dat['ET'].cumsum()\n",
    "dat['Total_Rain'] = dat['Eff_Rain'].cumsum()\n",
    "dat['Total_Irr'] = dat['eff_irr'].cumsum()\n",
    "dat['Total_WL'] = dat['WL'].cumsum()\n",
    "dat.tail()            \n"
   ]
  },
  {
   "cell_type": "markdown",
   "id": "7be9fcf0-86bb-4b35-8f95-8cdfdbfd2cba",
   "metadata": {
    "tags": []
   },
   "source": [
    "## Need to check:\n",
    "1. check effective irrigation  & hence affected WL, total irrigation, total water loss\n",
    "2. KC value takes from weekly average kc value"
   ]
  },
  {
   "cell_type": "code",
   "execution_count": null,
   "id": "31b3324d-eae3-463c-ad14-d4a1a4a141ed",
   "metadata": {},
   "outputs": [],
   "source": []
  }
 ],
 "metadata": {
  "kernelspec": {
   "display_name": "Python 3 (ipykernel)",
   "language": "python",
   "name": "python3"
  },
  "language_info": {
   "codemirror_mode": {
    "name": "ipython",
    "version": 3
   },
   "file_extension": ".py",
   "mimetype": "text/x-python",
   "name": "python",
   "nbconvert_exporter": "python",
   "pygments_lexer": "ipython3",
   "version": "3.10.14"
  }
 },
 "nbformat": 4,
 "nbformat_minor": 5
}
