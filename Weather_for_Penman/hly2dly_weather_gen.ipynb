{
 "cells": [
  {
   "cell_type": "markdown",
   "metadata": {},
   "source": [
    "# Weather generator\n",
    "\n",
    "***\n",
    "## Weather conversion from hourly to daily\n"
   ]
  },
  {
   "cell_type": "code",
   "execution_count": 232,
   "metadata": {},
   "outputs": [],
   "source": [
    "# only for reading the data as dataframe\n",
    "\n",
    "def read_hly(file):\n",
    "    indata = pd.read_csv(file, encoding='utf-16', sep='\\t', header=1, skipfooter=1, parse_dates=[0], thousands=',',engine='python')\n",
    "    indata = indata.drop(indata.columns[[-1, -2]],axis = 1)\n",
    "    indata = indata.sort_values(by=['Time (LST)'])\n",
    "    indata = indata.interpolate(method='linear', limit_direction='forward', axis=0)\n",
    "    indata = indata.set_index('Time (LST)')\n",
    "\n",
    "    \n",
    "    headlist = indata.columns.values.tolist()\n",
    "    print(len(headlist), headlist)\n",
    "\n",
    "    return indata"
   ]
  },
  {
   "cell_type": "markdown",
   "metadata": {},
   "source": [
    "# Summarize the data into daily from hourly"
   ]
  },
  {
   "cell_type": "code",
   "execution_count": 245,
   "metadata": {},
   "outputs": [],
   "source": [
    "def hly2dly(indata):\n",
    "    print(indata.info())\n",
    "\n",
    "    ws_avg_dly = indata['Wind Speed (mph)'].resample('D').mean()   # wind speed\n",
    "    ws_avg_dly.rename('AVG_WS (mph)', inplace=True)\n",
    "\n",
    "    pcpin_sum_dly = indata['Precipitation (in)'].resample('D').sum()   # solar radiation\n",
    "    pcpin_sum_dly.rename('precip (in)', inplace=True)\n",
    "    pcpmm_sum_dly = pcpin_sum_dly*25.4  # convert to mm\n",
    "    pcpmm_sum_dly.rename('precip (mm)', inplace=True)\n",
    "\n",
    "    rh_avg_dly = indata['Relative Humidity (%)'].resample('D').mean()   # relative humidity\n",
    "    rh_avg_dly.rename('AVG_RH (%)', inplace=True)\n",
    "\n",
    "    tf_avg_dly = indata['Air Temp (°F)'].resample('D').mean()   # max temperature\n",
    "    tf_avg_dly.rename('AVG_Temp (°F)', inplace=True)\n",
    "    tc_avg_dly = (tf_avg_dly-32)*5/9  # convert to celsius\n",
    "    tf_avg_dly.rename('AVG_Temp (°C)', inplace=True)\n",
    "\n",
    "\n",
    "    sr_avg_dly = indata['Solar Radiation (W/m²)'].resample('D').mean()   # solar radiation\n",
    "    sr_avg_dly.rename('SUM_SR (W/m²)', inplace=True)\n",
    "\n",
    "    def cal_svp(value):\n",
    "        # formula for saturation vapor pressure\n",
    "        # IF(K3>0,0.6108*EXP(17.27*K3/(237.3+K3)),0.6108*EXP(17.27*0.5/(237.3+0.5)))\n",
    "        if value > 0:\n",
    "            return np.exp(17.27*value/(237.3+value))*0.6108\n",
    "        else:\n",
    "            return np.exp(17.27*0.5/(237.3+0.5))*0.6108\n",
    "    svp_dly = tc_avg_dly.apply(cal_svp)  # saturation vapor pressure\n",
    "    svp_dly.rename('Saturation Vapor Pressure (kPa)', inplace=True)\n",
    "\n",
    "    vp_dly = rh_avg_dly/100*svp_dly*10  # vapor pressure\n",
    "    vp_dly.rename('Vapor Pressure (mb)', inplace=True)\n",
    "\n",
    "\n",
    "    dlydata = pd.concat([ws_avg_dly, pcpmm_sum_dly, sr_avg_dly, tc_avg_dly, rh_avg_dly, svp_dly, vp_dly], axis=1)\n",
    "    dlydata = dlydata.round(3)\n",
    "    return dlydata\n",
    "\n"
   ]
  },
  {
   "cell_type": "markdown",
   "metadata": {},
   "source": [
    "# Below is implementation block"
   ]
  },
  {
   "cell_type": "code",
   "execution_count": 246,
   "metadata": {},
   "outputs": [
    {
     "name": "stderr",
     "output_type": "stream",
     "text": [
      "/var/folders/_t/xf80sxmn3c99xrwsspdr3tc00000gp/T/ipykernel_27687/3861858551.py:4: UserWarning: Could not infer format, so each element will be parsed individually, falling back to `dateutil`. To ensure parsing is consistent and as-expected, please specify a format.\n",
      "  indata = pd.read_csv(file, encoding='utf-16', sep='\\t', header=1, skipfooter=1, parse_dates=[0], thousands=',',engine='python')\n"
     ]
    },
    {
     "name": "stdout",
     "output_type": "stream",
     "text": [
      "24 ['Air Temp (°F)', '0.5 m Air Temp (°F)', '1.5 m Air Temp (°F)', '3 m Air Temp (°F)', 'Relative Humidity (%)', 'Precipitation (in)', 'Accumulated Precip (in)', 'Solar Radiation (W/m²)', 'Wind Speed (mph)', 'Wind Direction (°)', 'Wind Gust (mph)', '4\" Bare Soil Temp (°F)', '4\" Grass Soil Temp (°F)', '2\" Soil Temp (°F)', '2\" Soil Water Content (%)', '4\" Soil Temp (°F)', '4\" Soil Water Content (%)', '8\" Soil Temp (°F)', '8\" Soil Water Content (%)', '20\" Soil Temp (°F)', '20\" Soil Water Content (%)', 'Inversion Strength', 'Max Inversion', 'Battery Voltage']\n",
      "<class 'pandas.core.frame.DataFrame'>\n",
      "DatetimeIndex: 8634 entries, 2024-04-14 15:35:00 to 2024-05-14 15:00:00\n",
      "Data columns (total 24 columns):\n",
      " #   Column                      Non-Null Count  Dtype  \n",
      "---  ------                      --------------  -----  \n",
      " 0   Air Temp (°F)               8634 non-null   float64\n",
      " 1   0.5 m Air Temp (°F)         8634 non-null   float64\n",
      " 2   1.5 m Air Temp (°F)         8634 non-null   float64\n",
      " 3   3 m Air Temp (°F)           8634 non-null   float64\n",
      " 4   Relative Humidity (%)       8634 non-null   int64  \n",
      " 5   Precipitation (in)          8634 non-null   float64\n",
      " 6   Accumulated Precip (in)     8634 non-null   float64\n",
      " 7   Solar Radiation (W/m²)      8634 non-null   float64\n",
      " 8   Wind Speed (mph)            8634 non-null   float64\n",
      " 9   Wind Direction (°)          8634 non-null   int64  \n",
      " 10  Wind Gust (mph)             8634 non-null   float64\n",
      " 11  4\" Bare Soil Temp (°F)      8634 non-null   float64\n",
      " 12  4\" Grass Soil Temp (°F)     8634 non-null   float64\n",
      " 13  2\" Soil Temp (°F)           8634 non-null   float64\n",
      " 14  2\" Soil Water Content (%)   8634 non-null   int64  \n",
      " 15  4\" Soil Temp (°F)           8634 non-null   float64\n",
      " 16  4\" Soil Water Content (%)   8634 non-null   float64\n",
      " 17  8\" Soil Temp (°F)           8634 non-null   float64\n",
      " 18  8\" Soil Water Content (%)   8634 non-null   int64  \n",
      " 19  20\" Soil Temp (°F)          8634 non-null   float64\n",
      " 20  20\" Soil Water Content (%)  8634 non-null   int64  \n",
      " 21  Inversion Strength          8634 non-null   float64\n",
      " 22  Max Inversion               8634 non-null   float64\n",
      " 23  Battery Voltage             8634 non-null   int64  \n",
      "dtypes: float64(18), int64(6)\n",
      "memory usage: 1.6 MB\n",
      "None\n"
     ]
    }
   ],
   "source": [
    "import pandas as pd\n",
    "import numpy as np\n",
    "\n",
    "# get today's date as string\n",
    "from datetime import date\n",
    "today = date.today().strftime(\"%Y%m%d\")\n",
    "\n",
    "indata = read_hly('Table (5-min).csv')\n",
    "indata.head()\n",
    "\n",
    "dlydata = hly2dly(indata)\n",
    "dlydata.head()\n",
    "\n",
    "dlydata.to_csv('Penman_weather_'+today+'_.csv') "
   ]
  },
  {
   "cell_type": "code",
   "execution_count": null,
   "metadata": {},
   "outputs": [],
   "source": []
  }
 ],
 "metadata": {
  "kernelspec": {
   "display_name": "base",
   "language": "python",
   "name": "python3"
  },
  "language_info": {
   "codemirror_mode": {
    "name": "ipython",
    "version": 3
   },
   "file_extension": ".py",
   "mimetype": "text/x-python",
   "name": "python",
   "nbconvert_exporter": "python",
   "pygments_lexer": "ipython3",
   "version": "3.10.14"
  }
 },
 "nbformat": 4,
 "nbformat_minor": 2
}
