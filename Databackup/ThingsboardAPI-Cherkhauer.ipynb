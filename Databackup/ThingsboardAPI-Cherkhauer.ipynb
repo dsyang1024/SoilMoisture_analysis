{
 "cells": [
  {
   "cell_type": "markdown",
   "id": "8c98322a-b34c-4bcd-bea8-909e4a57d397",
   "metadata": {},
   "source": [
    "# AgIT Thingsboard Export Notebook"
   ]
  },
  {
   "cell_type": "markdown",
   "id": "be5c7dec-264f-4e2e-b543-36d7263ded1d",
   "metadata": {},
   "source": [
    "## Import Modules"
   ]
  },
  {
   "cell_type": "code",
   "execution_count": 1,
   "id": "9e10f221",
   "metadata": {},
   "outputs": [],
   "source": [
    "import requests\n",
    "import sys\n",
    "import os\n",
    "import json\n",
    "import pandas as pd\n",
    "from pprint import pprint\n",
    "import datetime\n",
    "import pytz\n",
    "import config\n",
    "\n",
    "deviceList = []"
   ]
  },
  {
   "cell_type": "markdown",
   "id": "d6982cb0-5090-4eda-bb1f-e053dce20a57",
   "metadata": {},
   "source": [
    "## Set Variables"
   ]
  },
  {
   "cell_type": "code",
   "execution_count": 2,
   "id": "e51cd3b7-0b78-417c-8238-c24eb36837e6",
   "metadata": {},
   "outputs": [],
   "source": [
    "config = {\n",
    " 'username' : 'EMAILADDRESS@purdue.edu', ### Insert your email address used by AgIT Thingsboard system\n",
    " 'password': 'PASSWORD',  ### Insert your AgIT thingsboard password\n",
    " 'server' : 'https://things.iot.ag.purdue.edu:8080'\n",
    "}"
   ]
  },
  {
   "cell_type": "markdown",
   "id": "befe9253-0414-4add-acdf-0d771cde4c51",
   "metadata": {},
   "source": [
    "## Define Functions"
   ]
  },
  {
   "cell_type": "code",
   "execution_count": 3,
   "id": "3cf0bd80-1a57-4e8f-adae-d8157763a138",
   "metadata": {},
   "outputs": [],
   "source": [
    "def getCustomerDevices(custID, textSearch=None):\n",
    "    parameters = {        \n",
    "        'pageSize': 1000,\n",
    "        'page': 0,                \n",
    "    }\n",
    "    att_parms = {\n",
    "        'keys': 'dev_eui'\n",
    "    }\n",
    "    if(textSearch):\n",
    "        parameters.update({'textSearch': textSearch})\n",
    "    responseList = requests.get(f\"{config['server']}/api/customer/{custID}/devices\", headers=TBheaders,params= parameters).json()\n",
    "    #pprint(responseList)\n",
    "    list = []\n",
    "    for dev in responseList['data']:\n",
    "        #pprint(dev)\n",
    "        #print('------------------------------------------------------------------------------------------')\n",
    "        #'id': {'entityType': 'DEVICE', 'id': 'd49153a0-c868-11eb-95d8-09d06ef6a9a5'},\n",
    "        url = f\"{config['server']}/api/plugins/telemetry/DEVICE/{dev['id']['id']}/values/attributes\"\n",
    "        deviceResp = requests.get(url, headers=TBheaders,params= att_parms).json()\n",
    "        #print('------------------------------------------------------------------------------------------')\n",
    "        list.append([dev['id']['id'],dev['name'],deviceResp[0]['value']])\n",
    "    return list\n",
    "        \n",
    "\n",
    "def login(url, username, password):\n",
    "    # Log into ThingsBoard\n",
    "    return requests.post(f\"{url}/api/auth/login\", json={\n",
    "        \"username\": username,\n",
    "        \"password\": password\n",
    "    }).json()['token']\n",
    "\n",
    "def get_keys(device):\n",
    "    return requests.get(f\"{config['server']}/api/plugins/telemetry/DEVICE/{device}/keys/timeseries\",\n",
    "                 headers=TBheaders).json()\n",
    "def get_data_chunk(url, token, device, key, start, stop, limit):\n",
    "    #print([url, device, key, start, stop, limit])\n",
    "    return requests.get(f\"{url}/api/plugins/telemetry/DEVICE/{device}/values/timeseries\",\n",
    "             headers=TBheaders,\n",
    "            params= {\n",
    "                'keys': key,\n",
    "                'startTs': start,\n",
    "                'endTs': stop,\n",
    "                'limit': limit,\n",
    "                'agg': 'NONE'\n",
    "            }).json()\n",
    "\n",
    "def get_data(url, token, device, key, start, stop):\n",
    "    global totalLength\n",
    "    p = pd.DataFrame()\n",
    "    \n",
    "    # You have to request data backwards in time ...\n",
    "    while start < stop:\n",
    "        data = get_data_chunk(url, token, device[0], key, start, stop, 100000)\n",
    "        #print(data)\n",
    "        if key not in data:\n",
    "            break;\n",
    "        \n",
    "        #print(f\"{key}: Loaded {len(data[key])} points\")\n",
    "        t = pd.DataFrame.from_records(data[key])\n",
    "        #t['Timestamp'] = t['ts']\n",
    "        #pprint(t['ts'])\n",
    "        t['ts'] = (pd.to_datetime(t['ts'],unit='ms'))        \n",
    "        t.set_index('ts', inplace=True)\n",
    "        \n",
    "        t.rename(columns={'value': key}, inplace=True)\n",
    "        p = p._append(t)\n",
    "\n",
    "        # Update \"new\" stop time\n",
    "        stop = data[key][-1]['ts'] - 1\n",
    "    totalLength += len(p)\n",
    "    #print(f\"Total Length: {totalLength}\")\n",
    "    return p\n",
    "\n",
    "def outputCSV(devices):\n",
    "    global totalLength\n",
    "    final_df = pd.DataFrame()\n",
    "    for device in devices:\n",
    "        #print(f\"Downloading DEVICE: {device[0]} data\");\n",
    "        #print(device)\n",
    "        p = pd.DataFrame()\n",
    "        for key in keys:\n",
    "            #print(f\"info: Pulling {key}...\");\n",
    "            tempin = get_data(config['server'], token, device, key, startTS, endTS)            \n",
    "            if(len(tempin)>0):                \n",
    "                p = pd.concat([p,tempin], axis=1)\n",
    "        p['Entity Name'] = device[1]\n",
    "        p['dev_eui'] = device[2]\n",
    "        p.reset_index(drop=False)\n",
    "        #p_new_index = p.assign(**{'Timestamp': p.index})        \n",
    "        if(len(p)):\n",
    "            final_df = pd.concat([final_df,p])\n",
    "        \n",
    "    # Create Time Strings\n",
    "    # Convert to nanoseconds for pandas.to_datetime\n",
    "    start_timestamp_ns = startTS * 1000000\n",
    "    end_timestamp_ns = endTS * 1000000\n",
    "    \n",
    "    # Convert timestamp to datetime object\n",
    "    start_dt = pd.to_datetime(start_timestamp_ns, unit='ns')\n",
    "    end_dt = pd.to_datetime(end_timestamp_ns, unit='ns')\n",
    "    \n",
    "    # Format datetime string as yyyy-mm-dd-HH-MM\n",
    "    start_formatted_string = start_dt.strftime('%Y-%m-%d-%H-%M')\n",
    "    end_formatted_string = end_dt.strftime('%Y-%m-%d-%H-%M')\n",
    "    df_order = [\"Entity Name\",\"data_soil_moisture1\",\"data_soil_moisture2\",\"data_soil_moisture3\",\"data_soil_moisture4\",\"data_tem1\",\"data_tem2\",\"data_tem3\",\"data_tem4\",\"data_tem5\",\"data_tem6\",\"data_tem7\",\"dev_eui\"]\n",
    "    final_df = final_df.reindex(columns=df_order)\n",
    "    final_df1 = final_df.sort_values(by='ts')\n",
    "    \n",
    "    # Get current time\n",
    "    now = datetime.datetime.now()\n",
    "    \n",
    "    # Format time string (hours and minutes)\n",
    "    formatted_time = now.strftime(\"%H-%M\")\n",
    "    final_df1.to_csv(f\"./data-{start_formatted_string}_{end_formatted_string}_{formatted_time}.csv\")\n",
    "    print(\"Done.\")\n",
    "\n",
    "def getDeviceCredentialsByDeviceId(deviceID = 0):\n",
    "    url = config['server']+'/device/'+deviceID+'/credentials'\n",
    "    resp = requests.get(url,headers=TBheaders)\n",
    "    responseList = resp.json()\n",
    "    #pprint(responseList)\n",
    "    return responseList['credentialsID']\n",
    "\n",
    "def getDeviceServerAttributes(deviceID = 0):\n",
    "    if deviceID == 0:\n",
    "        while(deviceID == 0):\n",
    "            try:\n",
    "                deviceID = input(\"Enter device ID: \")\n",
    "            except:\n",
    "                print(\"Invalid DeviceID\")\n",
    "    url = config['server']+'/plugins/telemetry/DEVICE/'+deviceID+'/values/attributes'\n",
    "    #pprint(url)\n",
    "    #pprint(TBheaders)\n",
    "    xresp = requests.get(url,headers=TBheaders)\n",
    "    #pprint(xresp)\n",
    "    #pprint(resp.content())\n",
    "    #print(xresp.text())\n",
    "    responseList = xresp.json()\n",
    "    #pprint(responseList)\n",
    "    #return responseList['credentialsID']\n",
    "\n"
   ]
  },
  {
   "cell_type": "markdown",
   "id": "e83d9d69-0054-4189-8cf8-7c50c1c2f29c",
   "metadata": {},
   "source": [
    "## Get Token"
   ]
  },
  {
   "cell_type": "code",
   "execution_count": 5,
   "id": "3a0b46c1-74f1-4402-8ba8-c2b66186e66c",
   "metadata": {},
   "outputs": [
    {
     "name": "stdout",
     "output_type": "stream",
     "text": [
      "Server:  https://things.iot.ag.purdue.edu:8080\n"
     ]
    },
    {
     "ename": "KeyError",
     "evalue": "'token'",
     "output_type": "error",
     "traceback": [
      "\u001b[0;31m---------------------------------------------------------------------------\u001b[0m",
      "\u001b[0;31mKeyError\u001b[0m                                  Traceback (most recent call last)",
      "Cell \u001b[0;32mIn[5], line 2\u001b[0m\n\u001b[1;32m      1\u001b[0m \u001b[38;5;28mprint\u001b[39m(\u001b[38;5;124m\"\u001b[39m\u001b[38;5;124mServer: \u001b[39m\u001b[38;5;124m\"\u001b[39m,config[\u001b[38;5;124m'\u001b[39m\u001b[38;5;124mserver\u001b[39m\u001b[38;5;124m'\u001b[39m])\n\u001b[0;32m----> 2\u001b[0m token \u001b[38;5;241m=\u001b[39m \u001b[43mlogin\u001b[49m\u001b[43m(\u001b[49m\u001b[43mconfig\u001b[49m\u001b[43m[\u001b[49m\u001b[38;5;124;43m'\u001b[39;49m\u001b[38;5;124;43mserver\u001b[39;49m\u001b[38;5;124;43m'\u001b[39;49m\u001b[43m]\u001b[49m\u001b[43m,\u001b[49m\u001b[43m \u001b[49m\u001b[43mconfig\u001b[49m\u001b[43m[\u001b[49m\u001b[38;5;124;43m'\u001b[39;49m\u001b[38;5;124;43musername\u001b[39;49m\u001b[38;5;124;43m'\u001b[39;49m\u001b[43m]\u001b[49m\u001b[43m,\u001b[49m\u001b[43m \u001b[49m\u001b[43mconfig\u001b[49m\u001b[43m[\u001b[49m\u001b[38;5;124;43m'\u001b[39;49m\u001b[38;5;124;43mpassword\u001b[39;49m\u001b[38;5;124;43m'\u001b[39;49m\u001b[43m]\u001b[49m\u001b[43m)\u001b[49m;\n\u001b[1;32m      3\u001b[0m \u001b[38;5;28mprint\u001b[39m(\u001b[38;5;124mf\u001b[39m\u001b[38;5;124m\"\u001b[39m\u001b[38;5;124mToken: \u001b[39m\u001b[38;5;132;01m{\u001b[39;00mtoken\u001b[38;5;132;01m}\u001b[39;00m\u001b[38;5;124m\"\u001b[39m)\n\u001b[1;32m      4\u001b[0m TBheaders\u001b[38;5;241m=\u001b[39m{ \u001b[38;5;124m'\u001b[39m\u001b[38;5;124mAccept\u001b[39m\u001b[38;5;124m'\u001b[39m: \u001b[38;5;124m'\u001b[39m\u001b[38;5;124m*/*\u001b[39m\u001b[38;5;124m'\u001b[39m, \u001b[38;5;124m'\u001b[39m\u001b[38;5;124mX-Authorization\u001b[39m\u001b[38;5;124m'\u001b[39m: \u001b[38;5;124mf\u001b[39m\u001b[38;5;124m\"\u001b[39m\u001b[38;5;124mBearer \u001b[39m\u001b[38;5;132;01m{\u001b[39;00mtoken\u001b[38;5;132;01m}\u001b[39;00m\u001b[38;5;124m\"\u001b[39m }\n",
      "Cell \u001b[0;32mIn[3], line 27\u001b[0m, in \u001b[0;36mlogin\u001b[0;34m(url, username, password)\u001b[0m\n\u001b[1;32m     25\u001b[0m \u001b[38;5;28;01mdef\u001b[39;00m \u001b[38;5;21mlogin\u001b[39m(url, username, password):\n\u001b[1;32m     26\u001b[0m     \u001b[38;5;66;03m# Log into ThingsBoard\u001b[39;00m\n\u001b[0;32m---> 27\u001b[0m     \u001b[38;5;28;01mreturn\u001b[39;00m \u001b[43mrequests\u001b[49m\u001b[38;5;241;43m.\u001b[39;49m\u001b[43mpost\u001b[49m\u001b[43m(\u001b[49m\u001b[38;5;124;43mf\u001b[39;49m\u001b[38;5;124;43m\"\u001b[39;49m\u001b[38;5;132;43;01m{\u001b[39;49;00m\u001b[43murl\u001b[49m\u001b[38;5;132;43;01m}\u001b[39;49;00m\u001b[38;5;124;43m/api/auth/login\u001b[39;49m\u001b[38;5;124;43m\"\u001b[39;49m\u001b[43m,\u001b[49m\u001b[43m \u001b[49m\u001b[43mjson\u001b[49m\u001b[38;5;241;43m=\u001b[39;49m\u001b[43m{\u001b[49m\n\u001b[1;32m     28\u001b[0m \u001b[43m        \u001b[49m\u001b[38;5;124;43m\"\u001b[39;49m\u001b[38;5;124;43musername\u001b[39;49m\u001b[38;5;124;43m\"\u001b[39;49m\u001b[43m:\u001b[49m\u001b[43m \u001b[49m\u001b[43musername\u001b[49m\u001b[43m,\u001b[49m\n\u001b[1;32m     29\u001b[0m \u001b[43m        \u001b[49m\u001b[38;5;124;43m\"\u001b[39;49m\u001b[38;5;124;43mpassword\u001b[39;49m\u001b[38;5;124;43m\"\u001b[39;49m\u001b[43m:\u001b[49m\u001b[43m \u001b[49m\u001b[43mpassword\u001b[49m\n\u001b[1;32m     30\u001b[0m \u001b[43m    \u001b[49m\u001b[43m}\u001b[49m\u001b[43m)\u001b[49m\u001b[38;5;241;43m.\u001b[39;49m\u001b[43mjson\u001b[49m\u001b[43m(\u001b[49m\u001b[43m)\u001b[49m\u001b[43m[\u001b[49m\u001b[38;5;124;43m'\u001b[39;49m\u001b[38;5;124;43mtoken\u001b[39;49m\u001b[38;5;124;43m'\u001b[39;49m\u001b[43m]\u001b[49m\n",
      "\u001b[0;31mKeyError\u001b[0m: 'token'"
     ]
    }
   ],
   "source": [
    "print(\"Server: \",config['server'])\n",
    "token = login(config['server'], config['username'], config['password']);\n",
    "print(f\"Token: {token}\")\n",
    "TBheaders={ 'Accept': '*/*', 'X-Authorization': f\"Bearer {token}\" }"
   ]
  },
  {
   "cell_type": "markdown",
   "id": "bdd350b4-ca95-4a56-a848-93ce7d98eec2",
   "metadata": {},
   "source": [
    "## Set Timeframe for data pull"
   ]
  },
  {
   "cell_type": "code",
   "execution_count": null,
   "id": "814b0cf2-82d0-44b3-a34b-b1702d83d48f",
   "metadata": {},
   "outputs": [],
   "source": [
    "# Create a datetime object representing the local date and time\n",
    "# Year, Month, Day, Hour, Minute\n",
    "start_dt = datetime.datetime(2023, 10, 15, 0, 0)\n",
    "end_dt = datetime.datetime(2023, 10, 20, 23, 59)\n",
    "\n",
    "# Convert to a specific time zone (e.g., UTC)\n",
    "start_tz_utc = pytz.timezone(\"UTC\")\n",
    "start_dt_utc = start_tz_utc.localize(start_dt)\n",
    "end_tz_utc = pytz.timezone(\"UTC\")\n",
    "end_dt_utc = end_tz_utc.localize(end_dt)\n",
    "\n",
    "# Extract the Unix timestamp\n",
    "startTS = int(start_dt_utc.timestamp())*1000\n",
    "endTS = int(end_dt_utc.timestamp())*1000\n",
    "\n",
    "# Use for relative time frames\n",
    "#startTS = int((datetime.now() - timedelta(days=30)  - datetime(1970, 1, 1)).total_seconds() * 1000) # 30 days ago\n",
    "#endTS = int((datetime.datetime.utcnow() - datetime.datetime(1970, 1, 1)).total_seconds() * 1000) # now\n",
    "\n",
    "print(startTS, endTS)"
   ]
  },
  {
   "cell_type": "markdown",
   "id": "84b182af-b358-47c0-abf3-d3d6e8db7acf",
   "metadata": {},
   "source": [
    "## Get list of devices by \"Customer\""
   ]
  },
  {
   "cell_type": "code",
   "execution_count": null,
   "id": "4c80d36f-9a91-45e1-93a0-c38d776c7c4a",
   "metadata": {},
   "outputs": [],
   "source": [
    "# getCustomerDevices(custID, textSearch=None):\n",
    "# 7576b020-ecae-11ec-b72b-5dd76ca52a2b = Cherkhauer Customer ID\n",
    "# ABE-DRAGINO-GROPOINT-CHERKHAUER = Devices with names beginning with \"ABE-DRAGINO-GROPOINT-CHERKHAUER\"\n",
    "devices = getCustomerDevices(\"7576b020-ecae-11ec-b72b-5dd76ca52a2b\",\"ABE-DRAGINO-GROPOINT-CHERKHAUER-ACRE\")\n",
    "pprint(devices)"
   ]
  },
  {
   "cell_type": "markdown",
   "id": "bdbb7b65-574d-4996-bbc9-86101bc4fdb8",
   "metadata": {},
   "source": [
    "## Set keys to retrieve"
   ]
  },
  {
   "cell_type": "code",
   "execution_count": null,
   "id": "515c1ad1-457d-4352-ba2c-9ef7bcf5fb1b",
   "metadata": {},
   "outputs": [],
   "source": [
    "totalLength = 0\n",
    "# keys to retrieve\n",
    "#keys = [\"data_TempC_SHT\",\"data_Hum_SHT\"]\n",
    "#keys = [\"data_ambient_temperature\",\"data_input1_frequency\",\"data_input1_frequency_to_moisture\",\"data_Input2_voltage\",\"data_Input2_voltage_to_temp\",\"data_light_intensity\",\"data_relative_humidity\"]\n",
    "keys = [\"data_soil_moisture1\",\"data_soil_moisture2\",\"data_soil_moisture3\",\"data_soil_moisture4\",\"data_tem1\",\"data_tem2\",\"data_tem3\",\"data_tem4\",\"data_tem5\",\"data_tem6\",\"data_tem7\"]\n"
   ]
  },
  {
   "cell_type": "markdown",
   "id": "3c5e1757-53ac-4d59-97ca-0bf32f9f3e80",
   "metadata": {},
   "source": [
    "## Run Function to output data"
   ]
  },
  {
   "cell_type": "code",
   "execution_count": null,
   "id": "73f21537-6481-464f-b39e-d8d05c91d0e4",
   "metadata": {},
   "outputs": [],
   "source": [
    "outputCSV(devices)"
   ]
  }
 ],
 "metadata": {
  "kernelspec": {
   "display_name": "Python 3 (ipykernel)",
   "language": "python",
   "name": "python3"
  },
  "language_info": {
   "codemirror_mode": {
    "name": "ipython",
    "version": 3
   },
   "file_extension": ".py",
   "mimetype": "text/x-python",
   "name": "python",
   "nbconvert_exporter": "python",
   "pygments_lexer": "ipython3",
   "version": "3.10.9"
  }
 },
 "nbformat": 4,
 "nbformat_minor": 5
}
