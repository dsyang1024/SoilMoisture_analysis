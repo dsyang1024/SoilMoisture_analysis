{
 "cells": [
  {
   "cell_type": "code",
   "execution_count": 1,
   "id": "f26e27d7",
   "metadata": {
    "tags": []
   },
   "outputs": [],
   "source": [
    "import pandas as pd\n",
    "import datetime\n",
    "import numpy as np\n",
    "import math\n",
    "import matplotlib.pyplot as plt\n",
    "from datetime import date"
   ]
  },
  {
   "cell_type": "code",
   "execution_count": 2,
   "id": "a2e5e552-3c36-429d-88e3-04c4507791f2",
   "metadata": {
    "tags": []
   },
   "outputs": [
    {
     "name": "stdout",
     "output_type": "stream",
     "text": [
      "Today is : 2024-06-24 // Week: 26\n"
     ]
    }
   ],
   "source": [
    "today = date.today().strftime(\"%Y-%m-%d\")\n",
    "# Get today's date as datetime\n",
    "TDY = pd.Timestamp.today()\n",
    "TWK = TDY.isocalendar().week\n",
    "print('Today is :', today, '// Week:', TWK)"
   ]
  },
  {
   "cell_type": "code",
   "execution_count": 3,
   "id": "f16f5cc3-31ca-4817-8960-cd4fbc85d73e",
   "metadata": {
    "tags": []
   },
   "outputs": [],
   "source": [
    "import os\n",
    "os.getcwd()\n",
    "os.chdir('C:/Users/tbijoych/OneDrive - purdue.edu/3.Research/Dashboard')"
   ]
  },
  {
   "cell_type": "code",
   "execution_count": 4,
   "id": "62c112c6",
   "metadata": {
    "tags": []
   },
   "outputs": [
    {
     "data": {
      "text/html": [
       "<div>\n",
       "<style scoped>\n",
       "    .dataframe tbody tr th:only-of-type {\n",
       "        vertical-align: middle;\n",
       "    }\n",
       "\n",
       "    .dataframe tbody tr th {\n",
       "        vertical-align: top;\n",
       "    }\n",
       "\n",
       "    .dataframe thead th {\n",
       "        text-align: right;\n",
       "    }\n",
       "</style>\n",
       "<table border=\"1\" class=\"dataframe\">\n",
       "  <thead>\n",
       "    <tr style=\"text-align: right;\">\n",
       "      <th></th>\n",
       "      <th>Date</th>\n",
       "      <th>Sensor1</th>\n",
       "      <th>Sensor2</th>\n",
       "      <th>sensor3</th>\n",
       "      <th>sensor4</th>\n",
       "    </tr>\n",
       "  </thead>\n",
       "  <tbody>\n",
       "    <tr>\n",
       "      <th>0</th>\n",
       "      <td>2023-05-01 00:09:58</td>\n",
       "      <td>3276.7</td>\n",
       "      <td>3276.7</td>\n",
       "      <td>0.0</td>\n",
       "      <td>0.0</td>\n",
       "    </tr>\n",
       "    <tr>\n",
       "      <th>1</th>\n",
       "      <td>2023-05-01 00:19:55</td>\n",
       "      <td>3276.7</td>\n",
       "      <td>3276.7</td>\n",
       "      <td>0.0</td>\n",
       "      <td>0.0</td>\n",
       "    </tr>\n",
       "    <tr>\n",
       "      <th>2</th>\n",
       "      <td>2023-05-01 00:29:58</td>\n",
       "      <td>3276.7</td>\n",
       "      <td>3276.7</td>\n",
       "      <td>0.0</td>\n",
       "      <td>0.0</td>\n",
       "    </tr>\n",
       "    <tr>\n",
       "      <th>3</th>\n",
       "      <td>2023-05-01 00:39:55</td>\n",
       "      <td>3276.7</td>\n",
       "      <td>3276.7</td>\n",
       "      <td>0.0</td>\n",
       "      <td>0.0</td>\n",
       "    </tr>\n",
       "    <tr>\n",
       "      <th>4</th>\n",
       "      <td>2023-05-01 00:49:55</td>\n",
       "      <td>3276.7</td>\n",
       "      <td>3276.7</td>\n",
       "      <td>0.0</td>\n",
       "      <td>0.0</td>\n",
       "    </tr>\n",
       "  </tbody>\n",
       "</table>\n",
       "</div>"
      ],
      "text/plain": [
       "                 Date  Sensor1  Sensor2  sensor3  sensor4\n",
       "0 2023-05-01 00:09:58   3276.7   3276.7      0.0      0.0\n",
       "1 2023-05-01 00:19:55   3276.7   3276.7      0.0      0.0\n",
       "2 2023-05-01 00:29:58   3276.7   3276.7      0.0      0.0\n",
       "3 2023-05-01 00:39:55   3276.7   3276.7      0.0      0.0\n",
       "4 2023-05-01 00:49:55   3276.7   3276.7      0.0      0.0"
      ]
     },
     "execution_count": 4,
     "metadata": {},
     "output_type": "execute_result"
    }
   ],
   "source": [
    "SM = pd.read_excel('./ACRE_0111.xlsx', 'Export')\n",
    "# df_Soybean=df_Soybean.iloc[1:168, : 26] \n",
    "\n",
    "# df_Soybean['Date'] = pd.to_datetime(df_Soybean['Date'])\n",
    "SM.columns=['Date', 'Sensor1','Sensor2','sensor3','sensor4']\n",
    "SM=SM.dropna()\n",
    "SM['Sensor2']=pd.to_numeric(SM['Sensor2'])\n",
    "SM.head()"
   ]
  },
  {
   "cell_type": "code",
   "execution_count": 5,
   "id": "255f5b10-ae6d-4c41-bb23-58207b889553",
   "metadata": {
    "tags": []
   },
   "outputs": [],
   "source": [
    "SM=SM[SM['Sensor1']<3276]\n",
    "SM=SM[SM['Sensor2']<3276]\n",
    "df=SM"
   ]
  },
  {
   "cell_type": "code",
   "execution_count": 6,
   "id": "11c50977-398f-48c5-bf13-a7392f9cd1ae",
   "metadata": {
    "tags": []
   },
   "outputs": [
    {
     "data": {
      "text/plain": [
       "<bound method NDFrame.head of                      Sensor1  Sensor2  sensor3  sensor4\n",
       "Date                                                   \n",
       "2023-05-11 16:00:00     41.1     54.0     47.1     40.2\n",
       "2023-05-11 17:00:00     99.6    200.3    177.5    144.7\n",
       "2023-05-11 18:00:00    106.1    190.0    169.6    139.4\n",
       "2023-05-11 19:00:00     98.9    205.4    184.5    150.1\n",
       "2023-05-11 20:00:00     98.4    207.3    187.3    152.0\n",
       "...                      ...      ...      ...      ...\n",
       "2023-09-30 07:00:00     39.8     58.6     60.2     56.0\n",
       "2023-09-30 08:00:00     39.7     58.6     60.2     56.0\n",
       "2023-09-30 09:00:00     39.6     58.4     60.2     56.0\n",
       "2023-09-30 10:00:00     39.6     58.4     60.2     56.0\n",
       "2023-09-30 11:00:00     39.8     58.4     60.2     56.0\n",
       "\n",
       "[3404 rows x 4 columns]>"
      ]
     },
     "execution_count": 6,
     "metadata": {},
     "output_type": "execute_result"
    }
   ],
   "source": [
    "df['Date'] = pd.to_datetime(df['Date'])\n",
    "\n",
    "# Set 'Date' column as index\n",
    "df.set_index('Date', inplace=True)\n",
    "\n",
    "# Resample to hourly intervals and aggregate using mean (assuming you want to average Sensor1, Sensor2, Sensor3, Sensor4)\n",
    "df_hourly = df.resample('H').sum()\n",
    "df_hourly.head"
   ]
  },
  {
   "cell_type": "code",
   "execution_count": 7,
   "id": "34a6ff89-b6a7-4c9a-b857-de5cd6784f5d",
   "metadata": {
    "tags": []
   },
   "outputs": [],
   "source": [
    "# Calculate difference from previous hour for each sensor column\n",
    "diff_df = df_hourly.diff()\n",
    "\n",
    "# Reset index to make 'Date' a column again (if needed)\n",
    "diff_df.reset_index(inplace=True)"
   ]
  },
  {
   "cell_type": "code",
   "execution_count": 8,
   "id": "60a11b16-7915-4702-b3c8-cb319353f572",
   "metadata": {
    "tags": []
   },
   "outputs": [
    {
     "data": {
      "text/html": [
       "<div>\n",
       "<style scoped>\n",
       "    .dataframe tbody tr th:only-of-type {\n",
       "        vertical-align: middle;\n",
       "    }\n",
       "\n",
       "    .dataframe tbody tr th {\n",
       "        vertical-align: top;\n",
       "    }\n",
       "\n",
       "    .dataframe thead th {\n",
       "        text-align: right;\n",
       "    }\n",
       "</style>\n",
       "<table border=\"1\" class=\"dataframe\">\n",
       "  <thead>\n",
       "    <tr style=\"text-align: right;\">\n",
       "      <th></th>\n",
       "      <th>Date</th>\n",
       "      <th>Sensor1</th>\n",
       "      <th>Sensor2</th>\n",
       "      <th>sensor3</th>\n",
       "      <th>sensor4</th>\n",
       "    </tr>\n",
       "  </thead>\n",
       "  <tbody>\n",
       "    <tr>\n",
       "      <th>8</th>\n",
       "      <td>2023-05-12 00:00:00</td>\n",
       "      <td>-0.1</td>\n",
       "      <td>0.8</td>\n",
       "      <td>1.7</td>\n",
       "      <td>1.4</td>\n",
       "    </tr>\n",
       "    <tr>\n",
       "      <th>9</th>\n",
       "      <td>2023-05-12 01:00:00</td>\n",
       "      <td>15.8</td>\n",
       "      <td>35.9</td>\n",
       "      <td>34.0</td>\n",
       "      <td>27.9</td>\n",
       "    </tr>\n",
       "  </tbody>\n",
       "</table>\n",
       "</div>"
      ],
      "text/plain": [
       "                 Date  Sensor1  Sensor2  sensor3  sensor4\n",
       "8 2023-05-12 00:00:00     -0.1      0.8      1.7      1.4\n",
       "9 2023-05-12 01:00:00     15.8     35.9     34.0     27.9"
      ]
     },
     "execution_count": 8,
     "metadata": {},
     "output_type": "execute_result"
    }
   ],
   "source": [
    "filtered_df = diff_df[(diff_df['Date'].dt.hour >= 0) & (diff_df['Date'].dt.hour < 5)]\n",
    "filtered_df.head(2)"
   ]
  },
  {
   "cell_type": "code",
   "execution_count": 9,
   "id": "99cc7769-423e-459d-b0ad-4af0a8fb2584",
   "metadata": {
    "tags": []
   },
   "outputs": [
    {
     "data": {
      "text/html": [
       "<div>\n",
       "<style scoped>\n",
       "    .dataframe tbody tr th:only-of-type {\n",
       "        vertical-align: middle;\n",
       "    }\n",
       "\n",
       "    .dataframe tbody tr th {\n",
       "        vertical-align: top;\n",
       "    }\n",
       "\n",
       "    .dataframe thead th {\n",
       "        text-align: right;\n",
       "    }\n",
       "</style>\n",
       "<table border=\"1\" class=\"dataframe\">\n",
       "  <thead>\n",
       "    <tr style=\"text-align: right;\">\n",
       "      <th></th>\n",
       "      <th>Date</th>\n",
       "      <th>sensor4</th>\n",
       "    </tr>\n",
       "  </thead>\n",
       "  <tbody>\n",
       "    <tr>\n",
       "      <th>8</th>\n",
       "      <td>2023-05-12 00:00:00</td>\n",
       "      <td>1.4</td>\n",
       "    </tr>\n",
       "    <tr>\n",
       "      <th>9</th>\n",
       "      <td>2023-05-12 01:00:00</td>\n",
       "      <td>27.9</td>\n",
       "    </tr>\n",
       "    <tr>\n",
       "      <th>10</th>\n",
       "      <td>2023-05-12 02:00:00</td>\n",
       "      <td>1.3</td>\n",
       "    </tr>\n",
       "    <tr>\n",
       "      <th>11</th>\n",
       "      <td>2023-05-12 03:00:00</td>\n",
       "      <td>1.3</td>\n",
       "    </tr>\n",
       "    <tr>\n",
       "      <th>12</th>\n",
       "      <td>2023-05-12 04:00:00</td>\n",
       "      <td>1.2</td>\n",
       "    </tr>\n",
       "    <tr>\n",
       "      <th>...</th>\n",
       "      <td>...</td>\n",
       "      <td>...</td>\n",
       "    </tr>\n",
       "    <tr>\n",
       "      <th>3392</th>\n",
       "      <td>2023-09-30 00:00:00</td>\n",
       "      <td>-28.0</td>\n",
       "    </tr>\n",
       "    <tr>\n",
       "      <th>3393</th>\n",
       "      <td>2023-09-30 01:00:00</td>\n",
       "      <td>28.0</td>\n",
       "    </tr>\n",
       "    <tr>\n",
       "      <th>3394</th>\n",
       "      <td>2023-09-30 02:00:00</td>\n",
       "      <td>0.0</td>\n",
       "    </tr>\n",
       "    <tr>\n",
       "      <th>3395</th>\n",
       "      <td>2023-09-30 03:00:00</td>\n",
       "      <td>0.0</td>\n",
       "    </tr>\n",
       "    <tr>\n",
       "      <th>3396</th>\n",
       "      <td>2023-09-30 04:00:00</td>\n",
       "      <td>0.0</td>\n",
       "    </tr>\n",
       "  </tbody>\n",
       "</table>\n",
       "<p>710 rows × 2 columns</p>\n",
       "</div>"
      ],
      "text/plain": [
       "                    Date  sensor4\n",
       "8    2023-05-12 00:00:00      1.4\n",
       "9    2023-05-12 01:00:00     27.9\n",
       "10   2023-05-12 02:00:00      1.3\n",
       "11   2023-05-12 03:00:00      1.3\n",
       "12   2023-05-12 04:00:00      1.2\n",
       "...                  ...      ...\n",
       "3392 2023-09-30 00:00:00    -28.0\n",
       "3393 2023-09-30 01:00:00     28.0\n",
       "3394 2023-09-30 02:00:00      0.0\n",
       "3395 2023-09-30 03:00:00      0.0\n",
       "3396 2023-09-30 04:00:00      0.0\n",
       "\n",
       "[710 rows x 2 columns]"
      ]
     },
     "execution_count": 9,
     "metadata": {},
     "output_type": "execute_result"
    }
   ],
   "source": [
    "dat=filtered_df[['Date','sensor4']]\n",
    "#dat=dat[dat['sensor4']>0]\n",
    "dat"
   ]
  },
  {
   "cell_type": "code",
   "execution_count": 10,
   "id": "d5c2f27c-5122-43b2-b8c8-7af9468e9d49",
   "metadata": {
    "tags": []
   },
   "outputs": [
    {
     "data": {
      "image/png": "[encoded data removed]",
      "text/plain": [
       "<Figure size 600x300 with 1 Axes>"
      ]
     },
     "metadata": {},
     "output_type": "display_data"
    }
   ],
   "source": [
    "fig, (ax1) = plt.subplots(1, 1, figsize=(6, 3))\n",
    "\n",
    "# First plot for Total_ET vs Total_ET_ref\n",
    "ax1.set_xlabel('Date')\n",
    "ax1.set_ylabel('Uflux')\n",
    "ax1.scatter(dat['Date'], dat['sensor4'])\n",
    "# Adjust layout and show the plot\n",
    "plt.tight_layout()\n",
    "plt.show()"
   ]
  },
  {
   "cell_type": "code",
   "execution_count": 11,
   "id": "4dd50b7a-5fed-4ae4-b172-713057e8579f",
   "metadata": {
    "tags": []
   },
   "outputs": [
    {
     "name": "stderr",
     "output_type": "stream",
     "text": [
      "C:\\Users\\tbijoych\\AppData\\Local\\Temp\\ipykernel_25096\\2109971504.py:12: UserWarning: FixedFormatter should only be used together with FixedLocator\n",
      "  ax.set_xticklabels(labels)\n"
     ]
    },
    {
     "data": {
      "image/png": "[encoded data removed]",
      "text/plain": [
       "<Figure size 640x480 with 1 Axes>"
      ]
     },
     "metadata": {},
     "output_type": "display_data"
    }
   ],
   "source": [
    "import matplotlib.pyplot as plt\n",
    "\n",
    "fig, ax = plt.subplots()\n",
    "\n",
    "# We need to draw the canvas, otherwise the labels won't be positioned and \n",
    "# won't have values yet.\n",
    "fig.canvas.draw()\n",
    "\n",
    "labels = [item.get_text() for item in ax.get_xticklabels()]\n",
    "labels[1] = 'Testing'\n",
    "\n",
    "ax.set_xticklabels(labels)\n",
    "\n",
    "plt.show()"
   ]
  },
  {
   "cell_type": "code",
   "execution_count": null,
   "id": "034c7ae4-f830-451b-a109-7b06002dceb2",
   "metadata": {},
   "outputs": [],
   "source": []
  }
 ],
 "metadata": {
  "kernelspec": {
   "display_name": "Python 3 (ipykernel)",
   "language": "python",
   "name": "python3"
  },
  "language_info": {
   "codemirror_mode": {
    "name": "ipython",
    "version": 3
   },
   "file_extension": ".py",
   "mimetype": "text/x-python",
   "name": "python",
   "nbconvert_exporter": "python",
   "pygments_lexer": "ipython3",
   "version": "3.11.5"
  }
 },
 "nbformat": 4,
 "nbformat_minor": 5
}
